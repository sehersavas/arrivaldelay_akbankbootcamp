{
 "cells": [
  {
   "attachments": {},
   "cell_type": "markdown",
   "id": "4cb30c25-3a45-41b7-8cb3-e9200b68e8eb",
   "metadata": {},
   "source": [
    "# Uçuş Varış Gecikmesi Tahmin Modeli\n",
    "\n",
    "Bu projede  bir uçuşun değişkenlere bağlı olarak varışta ne kadar gecikeceğinin tahmin edilmesi amaçlanmaktadır. Bu bir regresyon problemidir ve gözetimli öğrenme algoritmaları kullanılacaktır.\n",
    "\n",
    "Veri Setinde Bulunan Özellikler (Features):\n",
    "\n",
    "'Year', 'Month', 'DayofMonth', 'DayOfWeek', 'DepTime', 'CRSDepTime', 'ArrTime', 'CRSArrTime', 'UniqueCarrier', 'FlightNum', 'TailNum', 'ActualElapsedTime', 'CRSElapsedTime', 'AirTime', 'ArrDelay', 'DepDelay', 'Origin', 'Dest', 'Distance', 'TaxiIn', 'TaxiOut', 'Cancelled', 'CancellationCode', 'Diverted', 'CarrierDelay', 'WeatherDelay', 'NASDelay', 'SecurityDelay', 'LateAircraftDelay'\n",
    "\n",
    "Kullanılan Kütüphaneler\n",
    "\n",
    "pandas\n",
    "numpy\n",
    "matplotlib\n",
    "seaborn\n",
    "scikit-learn"
   ]
  },
  {
   "cell_type": "markdown",
   "id": "da68579f-e369-47b0-a768-83402b7a3d60",
   "metadata": {},
   "source": [
    "# Veri Setinin Yüklenmesi\n",
    "Veri seti CSV formatında olup,'Yıl', 'Ay', 'Ayın Günü', 'Haftanın Günü', 'Uçuş Saati', 'Tahmini Kalkış Vakti', 'Varış Saati', 'CRS Ertesi Saati', 'Benzersiz Taşıyıcı', 'Uçuş Saati', 'Kuyruk Saati', 'Gerçek Geçen Saat', 'Tahmini Uçuş Süresi', 'Hava Süresi', 'Varış Gecikmesi', 'Uçuş Gecikmesi', 'Menşei', 'Varış', 'Mesafe', 'Taksi Girişi', 'Taksi Çıkışı', 'İptal Edildi', 'İptal Kodu', 'Yönlendirildi', 'Taşıyıcı Gecikmesi', 'Hava Gecikmesi', 'NAS Gecikmesi', 'Güvenlik Gecikmesi', 'Uçak Gecikmesi'içermektedir."
   ]
  },
  {
   "cell_type": "code",
   "execution_count": 1,
   "id": "5d2eb2ce-2a84-4d6b-a9ac-5f270376c639",
   "metadata": {},
   "outputs": [
    {
     "data": {
      "text/html": [
       "<div>\n",
       "<style scoped>\n",
       "    .dataframe tbody tr th:only-of-type {\n",
       "        vertical-align: middle;\n",
       "    }\n",
       "\n",
       "    .dataframe tbody tr th {\n",
       "        vertical-align: top;\n",
       "    }\n",
       "\n",
       "    .dataframe thead th {\n",
       "        text-align: right;\n",
       "    }\n",
       "</style>\n",
       "<table border=\"1\" class=\"dataframe\">\n",
       "  <thead>\n",
       "    <tr style=\"text-align: right;\">\n",
       "      <th></th>\n",
       "      <th>Unnamed: 0</th>\n",
       "      <th>Year</th>\n",
       "      <th>Month</th>\n",
       "      <th>DayofMonth</th>\n",
       "      <th>DayOfWeek</th>\n",
       "      <th>DepTime</th>\n",
       "      <th>CRSDepTime</th>\n",
       "      <th>ArrTime</th>\n",
       "      <th>CRSArrTime</th>\n",
       "      <th>UniqueCarrier</th>\n",
       "      <th>...</th>\n",
       "      <th>TaxiIn</th>\n",
       "      <th>TaxiOut</th>\n",
       "      <th>Cancelled</th>\n",
       "      <th>CancellationCode</th>\n",
       "      <th>Diverted</th>\n",
       "      <th>CarrierDelay</th>\n",
       "      <th>WeatherDelay</th>\n",
       "      <th>NASDelay</th>\n",
       "      <th>SecurityDelay</th>\n",
       "      <th>LateAircraftDelay</th>\n",
       "    </tr>\n",
       "  </thead>\n",
       "  <tbody>\n",
       "    <tr>\n",
       "      <th>0</th>\n",
       "      <td>0</td>\n",
       "      <td>2008</td>\n",
       "      <td>1</td>\n",
       "      <td>3</td>\n",
       "      <td>4</td>\n",
       "      <td>2003.0</td>\n",
       "      <td>1955</td>\n",
       "      <td>2211.0</td>\n",
       "      <td>2225</td>\n",
       "      <td>WN</td>\n",
       "      <td>...</td>\n",
       "      <td>4.0</td>\n",
       "      <td>8.0</td>\n",
       "      <td>0</td>\n",
       "      <td>N</td>\n",
       "      <td>0</td>\n",
       "      <td>NaN</td>\n",
       "      <td>NaN</td>\n",
       "      <td>NaN</td>\n",
       "      <td>NaN</td>\n",
       "      <td>NaN</td>\n",
       "    </tr>\n",
       "    <tr>\n",
       "      <th>1</th>\n",
       "      <td>1</td>\n",
       "      <td>2008</td>\n",
       "      <td>1</td>\n",
       "      <td>3</td>\n",
       "      <td>4</td>\n",
       "      <td>754.0</td>\n",
       "      <td>735</td>\n",
       "      <td>1002.0</td>\n",
       "      <td>1000</td>\n",
       "      <td>WN</td>\n",
       "      <td>...</td>\n",
       "      <td>5.0</td>\n",
       "      <td>10.0</td>\n",
       "      <td>0</td>\n",
       "      <td>N</td>\n",
       "      <td>0</td>\n",
       "      <td>NaN</td>\n",
       "      <td>NaN</td>\n",
       "      <td>NaN</td>\n",
       "      <td>NaN</td>\n",
       "      <td>NaN</td>\n",
       "    </tr>\n",
       "    <tr>\n",
       "      <th>2</th>\n",
       "      <td>2</td>\n",
       "      <td>2008</td>\n",
       "      <td>1</td>\n",
       "      <td>3</td>\n",
       "      <td>4</td>\n",
       "      <td>628.0</td>\n",
       "      <td>620</td>\n",
       "      <td>804.0</td>\n",
       "      <td>750</td>\n",
       "      <td>WN</td>\n",
       "      <td>...</td>\n",
       "      <td>3.0</td>\n",
       "      <td>17.0</td>\n",
       "      <td>0</td>\n",
       "      <td>N</td>\n",
       "      <td>0</td>\n",
       "      <td>NaN</td>\n",
       "      <td>NaN</td>\n",
       "      <td>NaN</td>\n",
       "      <td>NaN</td>\n",
       "      <td>NaN</td>\n",
       "    </tr>\n",
       "    <tr>\n",
       "      <th>3</th>\n",
       "      <td>4</td>\n",
       "      <td>2008</td>\n",
       "      <td>1</td>\n",
       "      <td>3</td>\n",
       "      <td>4</td>\n",
       "      <td>1829.0</td>\n",
       "      <td>1755</td>\n",
       "      <td>1959.0</td>\n",
       "      <td>1925</td>\n",
       "      <td>WN</td>\n",
       "      <td>...</td>\n",
       "      <td>3.0</td>\n",
       "      <td>10.0</td>\n",
       "      <td>0</td>\n",
       "      <td>N</td>\n",
       "      <td>0</td>\n",
       "      <td>2.0</td>\n",
       "      <td>0.0</td>\n",
       "      <td>0.0</td>\n",
       "      <td>0.0</td>\n",
       "      <td>32.0</td>\n",
       "    </tr>\n",
       "    <tr>\n",
       "      <th>4</th>\n",
       "      <td>5</td>\n",
       "      <td>2008</td>\n",
       "      <td>1</td>\n",
       "      <td>3</td>\n",
       "      <td>4</td>\n",
       "      <td>1940.0</td>\n",
       "      <td>1915</td>\n",
       "      <td>2121.0</td>\n",
       "      <td>2110</td>\n",
       "      <td>WN</td>\n",
       "      <td>...</td>\n",
       "      <td>4.0</td>\n",
       "      <td>10.0</td>\n",
       "      <td>0</td>\n",
       "      <td>N</td>\n",
       "      <td>0</td>\n",
       "      <td>NaN</td>\n",
       "      <td>NaN</td>\n",
       "      <td>NaN</td>\n",
       "      <td>NaN</td>\n",
       "      <td>NaN</td>\n",
       "    </tr>\n",
       "  </tbody>\n",
       "</table>\n",
       "<p>5 rows × 30 columns</p>\n",
       "</div>"
      ],
      "text/plain": [
       "   Unnamed: 0  Year  Month  DayofMonth  DayOfWeek  DepTime  CRSDepTime  \\\n",
       "0           0  2008      1           3          4   2003.0        1955   \n",
       "1           1  2008      1           3          4    754.0         735   \n",
       "2           2  2008      1           3          4    628.0         620   \n",
       "3           4  2008      1           3          4   1829.0        1755   \n",
       "4           5  2008      1           3          4   1940.0        1915   \n",
       "\n",
       "   ArrTime  CRSArrTime UniqueCarrier  ...  TaxiIn TaxiOut  Cancelled  \\\n",
       "0   2211.0        2225            WN  ...     4.0     8.0          0   \n",
       "1   1002.0        1000            WN  ...     5.0    10.0          0   \n",
       "2    804.0         750            WN  ...     3.0    17.0          0   \n",
       "3   1959.0        1925            WN  ...     3.0    10.0          0   \n",
       "4   2121.0        2110            WN  ...     4.0    10.0          0   \n",
       "\n",
       "   CancellationCode  Diverted  CarrierDelay  WeatherDelay NASDelay  \\\n",
       "0                 N         0           NaN           NaN      NaN   \n",
       "1                 N         0           NaN           NaN      NaN   \n",
       "2                 N         0           NaN           NaN      NaN   \n",
       "3                 N         0           2.0           0.0      0.0   \n",
       "4                 N         0           NaN           NaN      NaN   \n",
       "\n",
       "  SecurityDelay  LateAircraftDelay  \n",
       "0           NaN                NaN  \n",
       "1           NaN                NaN  \n",
       "2           NaN                NaN  \n",
       "3           0.0               32.0  \n",
       "4           NaN                NaN  \n",
       "\n",
       "[5 rows x 30 columns]"
      ]
     },
     "execution_count": 1,
     "metadata": {},
     "output_type": "execute_result"
    }
   ],
   "source": [
    "import pandas as pd\n",
    "\n",
    "df = pd.read_csv(\"/Users/sehersavas/Desktop/DelayedFlights.csv\")\n",
    "df.head()"
   ]
  },
  {
   "cell_type": "markdown",
   "id": "0d8f57a4-9a25-4bb7-886b-9b51e7ac970c",
   "metadata": {},
   "source": [
    "# KEŞİFSEL VERİ ANALİZİ"
   ]
  },
  {
   "cell_type": "code",
   "execution_count": 2,
   "id": "0e3519ef-2604-440e-9b75-2ce3fbcba0d4",
   "metadata": {},
   "outputs": [
    {
     "name": "stdout",
     "output_type": "stream",
     "text": [
      "   Unnamed: 0  Year  Month  DayofMonth  DayOfWeek  DepTime  CRSDepTime  \\\n",
      "0           0  2008      1           3          4   2003.0        1955   \n",
      "1           1  2008      1           3          4    754.0         735   \n",
      "2           2  2008      1           3          4    628.0         620   \n",
      "3           4  2008      1           3          4   1829.0        1755   \n",
      "4           5  2008      1           3          4   1940.0        1915   \n",
      "\n",
      "   ArrTime  CRSArrTime UniqueCarrier  ...  TaxiIn TaxiOut  Cancelled  \\\n",
      "0   2211.0        2225            WN  ...     4.0     8.0          0   \n",
      "1   1002.0        1000            WN  ...     5.0    10.0          0   \n",
      "2    804.0         750            WN  ...     3.0    17.0          0   \n",
      "3   1959.0        1925            WN  ...     3.0    10.0          0   \n",
      "4   2121.0        2110            WN  ...     4.0    10.0          0   \n",
      "\n",
      "   CancellationCode  Diverted  CarrierDelay  WeatherDelay NASDelay  \\\n",
      "0                 N         0           NaN           NaN      NaN   \n",
      "1                 N         0           NaN           NaN      NaN   \n",
      "2                 N         0           NaN           NaN      NaN   \n",
      "3                 N         0           2.0           0.0      0.0   \n",
      "4                 N         0           NaN           NaN      NaN   \n",
      "\n",
      "  SecurityDelay  LateAircraftDelay  \n",
      "0           NaN                NaN  \n",
      "1           NaN                NaN  \n",
      "2           NaN                NaN  \n",
      "3           0.0               32.0  \n",
      "4           NaN                NaN  \n",
      "\n",
      "[5 rows x 30 columns]\n",
      "\n",
      "Veri kümesinin boyutu: 1936758 satır, 30 sütun\n",
      "\n",
      "Sütunlar:\n",
      "['Unnamed: 0', 'Year', 'Month', 'DayofMonth', 'DayOfWeek', 'DepTime', 'CRSDepTime', 'ArrTime', 'CRSArrTime', 'UniqueCarrier', 'FlightNum', 'TailNum', 'ActualElapsedTime', 'CRSElapsedTime', 'AirTime', 'ArrDelay', 'DepDelay', 'Origin', 'Dest', 'Distance', 'TaxiIn', 'TaxiOut', 'Cancelled', 'CancellationCode', 'Diverted', 'CarrierDelay', 'WeatherDelay', 'NASDelay', 'SecurityDelay', 'LateAircraftDelay']\n",
      "\n",
      "Veri tipleri:\n",
      "Unnamed: 0             int64\n",
      "Year                   int64\n",
      "Month                  int64\n",
      "DayofMonth             int64\n",
      "DayOfWeek              int64\n",
      "DepTime              float64\n",
      "CRSDepTime             int64\n",
      "ArrTime              float64\n",
      "CRSArrTime             int64\n",
      "UniqueCarrier         object\n",
      "FlightNum              int64\n",
      "TailNum               object\n",
      "ActualElapsedTime    float64\n",
      "CRSElapsedTime       float64\n",
      "AirTime              float64\n",
      "ArrDelay             float64\n",
      "DepDelay             float64\n",
      "Origin                object\n",
      "Dest                  object\n",
      "Distance               int64\n",
      "TaxiIn               float64\n",
      "TaxiOut              float64\n",
      "Cancelled              int64\n",
      "CancellationCode      object\n",
      "Diverted               int64\n",
      "CarrierDelay         float64\n",
      "WeatherDelay         float64\n",
      "NASDelay             float64\n",
      "SecurityDelay        float64\n",
      "LateAircraftDelay    float64\n",
      "dtype: object\n",
      "\n",
      "Eksik veri sayısı:\n",
      "Unnamed: 0                0\n",
      "Year                      0\n",
      "Month                     0\n",
      "DayofMonth                0\n",
      "DayOfWeek                 0\n",
      "DepTime                   0\n",
      "CRSDepTime                0\n",
      "ArrTime                7110\n",
      "CRSArrTime                0\n",
      "UniqueCarrier             0\n",
      "FlightNum                 0\n",
      "TailNum                   5\n",
      "ActualElapsedTime      8387\n",
      "CRSElapsedTime          198\n",
      "AirTime                8387\n",
      "ArrDelay               8387\n",
      "DepDelay                  0\n",
      "Origin                    0\n",
      "Dest                      0\n",
      "Distance                  0\n",
      "TaxiIn                 7110\n",
      "TaxiOut                 455\n",
      "Cancelled                 0\n",
      "CancellationCode          0\n",
      "Diverted                  0\n",
      "CarrierDelay         689270\n",
      "WeatherDelay         689270\n",
      "NASDelay             689270\n",
      "SecurityDelay        689270\n",
      "LateAircraftDelay    689270\n",
      "dtype: int64\n"
     ]
    },
    {
     "data": {
      "text/html": [
       "<div>\n",
       "<style scoped>\n",
       "    .dataframe tbody tr th:only-of-type {\n",
       "        vertical-align: middle;\n",
       "    }\n",
       "\n",
       "    .dataframe tbody tr th {\n",
       "        vertical-align: top;\n",
       "    }\n",
       "\n",
       "    .dataframe thead th {\n",
       "        text-align: right;\n",
       "    }\n",
       "</style>\n",
       "<table border=\"1\" class=\"dataframe\">\n",
       "  <thead>\n",
       "    <tr style=\"text-align: right;\">\n",
       "      <th></th>\n",
       "      <th>Unnamed: 0</th>\n",
       "      <th>Year</th>\n",
       "      <th>Month</th>\n",
       "      <th>DayofMonth</th>\n",
       "      <th>DayOfWeek</th>\n",
       "      <th>DepTime</th>\n",
       "      <th>CRSDepTime</th>\n",
       "      <th>ArrTime</th>\n",
       "      <th>CRSArrTime</th>\n",
       "      <th>UniqueCarrier</th>\n",
       "      <th>...</th>\n",
       "      <th>TaxiIn</th>\n",
       "      <th>TaxiOut</th>\n",
       "      <th>Cancelled</th>\n",
       "      <th>CancellationCode</th>\n",
       "      <th>Diverted</th>\n",
       "      <th>CarrierDelay</th>\n",
       "      <th>WeatherDelay</th>\n",
       "      <th>NASDelay</th>\n",
       "      <th>SecurityDelay</th>\n",
       "      <th>LateAircraftDelay</th>\n",
       "    </tr>\n",
       "  </thead>\n",
       "  <tbody>\n",
       "    <tr>\n",
       "      <th>count</th>\n",
       "      <td>1.936758e+06</td>\n",
       "      <td>1936758.0</td>\n",
       "      <td>1.936758e+06</td>\n",
       "      <td>1.936758e+06</td>\n",
       "      <td>1.936758e+06</td>\n",
       "      <td>1.936758e+06</td>\n",
       "      <td>1.936758e+06</td>\n",
       "      <td>1.929648e+06</td>\n",
       "      <td>1.936758e+06</td>\n",
       "      <td>1936758</td>\n",
       "      <td>...</td>\n",
       "      <td>1.929648e+06</td>\n",
       "      <td>1.936303e+06</td>\n",
       "      <td>1.936758e+06</td>\n",
       "      <td>1936758</td>\n",
       "      <td>1.936758e+06</td>\n",
       "      <td>1.247488e+06</td>\n",
       "      <td>1.247488e+06</td>\n",
       "      <td>1.247488e+06</td>\n",
       "      <td>1.247488e+06</td>\n",
       "      <td>1.247488e+06</td>\n",
       "    </tr>\n",
       "    <tr>\n",
       "      <th>unique</th>\n",
       "      <td>NaN</td>\n",
       "      <td>NaN</td>\n",
       "      <td>NaN</td>\n",
       "      <td>NaN</td>\n",
       "      <td>NaN</td>\n",
       "      <td>NaN</td>\n",
       "      <td>NaN</td>\n",
       "      <td>NaN</td>\n",
       "      <td>NaN</td>\n",
       "      <td>20</td>\n",
       "      <td>...</td>\n",
       "      <td>NaN</td>\n",
       "      <td>NaN</td>\n",
       "      <td>NaN</td>\n",
       "      <td>4</td>\n",
       "      <td>NaN</td>\n",
       "      <td>NaN</td>\n",
       "      <td>NaN</td>\n",
       "      <td>NaN</td>\n",
       "      <td>NaN</td>\n",
       "      <td>NaN</td>\n",
       "    </tr>\n",
       "    <tr>\n",
       "      <th>top</th>\n",
       "      <td>NaN</td>\n",
       "      <td>NaN</td>\n",
       "      <td>NaN</td>\n",
       "      <td>NaN</td>\n",
       "      <td>NaN</td>\n",
       "      <td>NaN</td>\n",
       "      <td>NaN</td>\n",
       "      <td>NaN</td>\n",
       "      <td>NaN</td>\n",
       "      <td>WN</td>\n",
       "      <td>...</td>\n",
       "      <td>NaN</td>\n",
       "      <td>NaN</td>\n",
       "      <td>NaN</td>\n",
       "      <td>N</td>\n",
       "      <td>NaN</td>\n",
       "      <td>NaN</td>\n",
       "      <td>NaN</td>\n",
       "      <td>NaN</td>\n",
       "      <td>NaN</td>\n",
       "      <td>NaN</td>\n",
       "    </tr>\n",
       "    <tr>\n",
       "      <th>freq</th>\n",
       "      <td>NaN</td>\n",
       "      <td>NaN</td>\n",
       "      <td>NaN</td>\n",
       "      <td>NaN</td>\n",
       "      <td>NaN</td>\n",
       "      <td>NaN</td>\n",
       "      <td>NaN</td>\n",
       "      <td>NaN</td>\n",
       "      <td>NaN</td>\n",
       "      <td>377602</td>\n",
       "      <td>...</td>\n",
       "      <td>NaN</td>\n",
       "      <td>NaN</td>\n",
       "      <td>NaN</td>\n",
       "      <td>1936125</td>\n",
       "      <td>NaN</td>\n",
       "      <td>NaN</td>\n",
       "      <td>NaN</td>\n",
       "      <td>NaN</td>\n",
       "      <td>NaN</td>\n",
       "      <td>NaN</td>\n",
       "    </tr>\n",
       "    <tr>\n",
       "      <th>mean</th>\n",
       "      <td>3.341651e+06</td>\n",
       "      <td>2008.0</td>\n",
       "      <td>6.111106e+00</td>\n",
       "      <td>1.575347e+01</td>\n",
       "      <td>3.984827e+00</td>\n",
       "      <td>1.518534e+03</td>\n",
       "      <td>1.467473e+03</td>\n",
       "      <td>1.610141e+03</td>\n",
       "      <td>1.634225e+03</td>\n",
       "      <td>NaN</td>\n",
       "      <td>...</td>\n",
       "      <td>6.812975e+00</td>\n",
       "      <td>1.823220e+01</td>\n",
       "      <td>3.268348e-04</td>\n",
       "      <td>NaN</td>\n",
       "      <td>4.003598e-03</td>\n",
       "      <td>1.917940e+01</td>\n",
       "      <td>3.703571e+00</td>\n",
       "      <td>1.502164e+01</td>\n",
       "      <td>9.013714e-02</td>\n",
       "      <td>2.529647e+01</td>\n",
       "    </tr>\n",
       "    <tr>\n",
       "      <th>std</th>\n",
       "      <td>2.066065e+06</td>\n",
       "      <td>0.0</td>\n",
       "      <td>3.482546e+00</td>\n",
       "      <td>8.776272e+00</td>\n",
       "      <td>1.995966e+00</td>\n",
       "      <td>4.504853e+02</td>\n",
       "      <td>4.247668e+02</td>\n",
       "      <td>5.481781e+02</td>\n",
       "      <td>4.646347e+02</td>\n",
       "      <td>NaN</td>\n",
       "      <td>...</td>\n",
       "      <td>5.273595e+00</td>\n",
       "      <td>1.433853e+01</td>\n",
       "      <td>1.807562e-02</td>\n",
       "      <td>NaN</td>\n",
       "      <td>6.314722e-02</td>\n",
       "      <td>4.354621e+01</td>\n",
       "      <td>2.149290e+01</td>\n",
       "      <td>3.383305e+01</td>\n",
       "      <td>2.022714e+00</td>\n",
       "      <td>4.205486e+01</td>\n",
       "    </tr>\n",
       "    <tr>\n",
       "      <th>min</th>\n",
       "      <td>0.000000e+00</td>\n",
       "      <td>2008.0</td>\n",
       "      <td>1.000000e+00</td>\n",
       "      <td>1.000000e+00</td>\n",
       "      <td>1.000000e+00</td>\n",
       "      <td>1.000000e+00</td>\n",
       "      <td>0.000000e+00</td>\n",
       "      <td>1.000000e+00</td>\n",
       "      <td>0.000000e+00</td>\n",
       "      <td>NaN</td>\n",
       "      <td>...</td>\n",
       "      <td>0.000000e+00</td>\n",
       "      <td>0.000000e+00</td>\n",
       "      <td>0.000000e+00</td>\n",
       "      <td>NaN</td>\n",
       "      <td>0.000000e+00</td>\n",
       "      <td>0.000000e+00</td>\n",
       "      <td>0.000000e+00</td>\n",
       "      <td>0.000000e+00</td>\n",
       "      <td>0.000000e+00</td>\n",
       "      <td>0.000000e+00</td>\n",
       "    </tr>\n",
       "    <tr>\n",
       "      <th>25%</th>\n",
       "      <td>1.517452e+06</td>\n",
       "      <td>2008.0</td>\n",
       "      <td>3.000000e+00</td>\n",
       "      <td>8.000000e+00</td>\n",
       "      <td>2.000000e+00</td>\n",
       "      <td>1.203000e+03</td>\n",
       "      <td>1.135000e+03</td>\n",
       "      <td>1.316000e+03</td>\n",
       "      <td>1.325000e+03</td>\n",
       "      <td>NaN</td>\n",
       "      <td>...</td>\n",
       "      <td>4.000000e+00</td>\n",
       "      <td>1.000000e+01</td>\n",
       "      <td>0.000000e+00</td>\n",
       "      <td>NaN</td>\n",
       "      <td>0.000000e+00</td>\n",
       "      <td>0.000000e+00</td>\n",
       "      <td>0.000000e+00</td>\n",
       "      <td>0.000000e+00</td>\n",
       "      <td>0.000000e+00</td>\n",
       "      <td>0.000000e+00</td>\n",
       "    </tr>\n",
       "    <tr>\n",
       "      <th>50%</th>\n",
       "      <td>3.242558e+06</td>\n",
       "      <td>2008.0</td>\n",
       "      <td>6.000000e+00</td>\n",
       "      <td>1.600000e+01</td>\n",
       "      <td>4.000000e+00</td>\n",
       "      <td>1.545000e+03</td>\n",
       "      <td>1.510000e+03</td>\n",
       "      <td>1.715000e+03</td>\n",
       "      <td>1.705000e+03</td>\n",
       "      <td>NaN</td>\n",
       "      <td>...</td>\n",
       "      <td>6.000000e+00</td>\n",
       "      <td>1.400000e+01</td>\n",
       "      <td>0.000000e+00</td>\n",
       "      <td>NaN</td>\n",
       "      <td>0.000000e+00</td>\n",
       "      <td>2.000000e+00</td>\n",
       "      <td>0.000000e+00</td>\n",
       "      <td>2.000000e+00</td>\n",
       "      <td>0.000000e+00</td>\n",
       "      <td>8.000000e+00</td>\n",
       "    </tr>\n",
       "    <tr>\n",
       "      <th>75%</th>\n",
       "      <td>4.972467e+06</td>\n",
       "      <td>2008.0</td>\n",
       "      <td>9.000000e+00</td>\n",
       "      <td>2.300000e+01</td>\n",
       "      <td>6.000000e+00</td>\n",
       "      <td>1.900000e+03</td>\n",
       "      <td>1.815000e+03</td>\n",
       "      <td>2.030000e+03</td>\n",
       "      <td>2.014000e+03</td>\n",
       "      <td>NaN</td>\n",
       "      <td>...</td>\n",
       "      <td>8.000000e+00</td>\n",
       "      <td>2.100000e+01</td>\n",
       "      <td>0.000000e+00</td>\n",
       "      <td>NaN</td>\n",
       "      <td>0.000000e+00</td>\n",
       "      <td>2.100000e+01</td>\n",
       "      <td>0.000000e+00</td>\n",
       "      <td>1.500000e+01</td>\n",
       "      <td>0.000000e+00</td>\n",
       "      <td>3.300000e+01</td>\n",
       "    </tr>\n",
       "    <tr>\n",
       "      <th>max</th>\n",
       "      <td>7.009727e+06</td>\n",
       "      <td>2008.0</td>\n",
       "      <td>1.200000e+01</td>\n",
       "      <td>3.100000e+01</td>\n",
       "      <td>7.000000e+00</td>\n",
       "      <td>2.400000e+03</td>\n",
       "      <td>2.359000e+03</td>\n",
       "      <td>2.400000e+03</td>\n",
       "      <td>2.400000e+03</td>\n",
       "      <td>NaN</td>\n",
       "      <td>...</td>\n",
       "      <td>2.400000e+02</td>\n",
       "      <td>4.220000e+02</td>\n",
       "      <td>1.000000e+00</td>\n",
       "      <td>NaN</td>\n",
       "      <td>1.000000e+00</td>\n",
       "      <td>2.436000e+03</td>\n",
       "      <td>1.352000e+03</td>\n",
       "      <td>1.357000e+03</td>\n",
       "      <td>3.920000e+02</td>\n",
       "      <td>1.316000e+03</td>\n",
       "    </tr>\n",
       "  </tbody>\n",
       "</table>\n",
       "<p>11 rows × 30 columns</p>\n",
       "</div>"
      ],
      "text/plain": [
       "          Unnamed: 0       Year         Month    DayofMonth     DayOfWeek  \\\n",
       "count   1.936758e+06  1936758.0  1.936758e+06  1.936758e+06  1.936758e+06   \n",
       "unique           NaN        NaN           NaN           NaN           NaN   \n",
       "top              NaN        NaN           NaN           NaN           NaN   \n",
       "freq             NaN        NaN           NaN           NaN           NaN   \n",
       "mean    3.341651e+06     2008.0  6.111106e+00  1.575347e+01  3.984827e+00   \n",
       "std     2.066065e+06        0.0  3.482546e+00  8.776272e+00  1.995966e+00   \n",
       "min     0.000000e+00     2008.0  1.000000e+00  1.000000e+00  1.000000e+00   \n",
       "25%     1.517452e+06     2008.0  3.000000e+00  8.000000e+00  2.000000e+00   \n",
       "50%     3.242558e+06     2008.0  6.000000e+00  1.600000e+01  4.000000e+00   \n",
       "75%     4.972467e+06     2008.0  9.000000e+00  2.300000e+01  6.000000e+00   \n",
       "max     7.009727e+06     2008.0  1.200000e+01  3.100000e+01  7.000000e+00   \n",
       "\n",
       "             DepTime    CRSDepTime       ArrTime    CRSArrTime UniqueCarrier  \\\n",
       "count   1.936758e+06  1.936758e+06  1.929648e+06  1.936758e+06       1936758   \n",
       "unique           NaN           NaN           NaN           NaN            20   \n",
       "top              NaN           NaN           NaN           NaN            WN   \n",
       "freq             NaN           NaN           NaN           NaN        377602   \n",
       "mean    1.518534e+03  1.467473e+03  1.610141e+03  1.634225e+03           NaN   \n",
       "std     4.504853e+02  4.247668e+02  5.481781e+02  4.646347e+02           NaN   \n",
       "min     1.000000e+00  0.000000e+00  1.000000e+00  0.000000e+00           NaN   \n",
       "25%     1.203000e+03  1.135000e+03  1.316000e+03  1.325000e+03           NaN   \n",
       "50%     1.545000e+03  1.510000e+03  1.715000e+03  1.705000e+03           NaN   \n",
       "75%     1.900000e+03  1.815000e+03  2.030000e+03  2.014000e+03           NaN   \n",
       "max     2.400000e+03  2.359000e+03  2.400000e+03  2.400000e+03           NaN   \n",
       "\n",
       "        ...        TaxiIn       TaxiOut     Cancelled  CancellationCode  \\\n",
       "count   ...  1.929648e+06  1.936303e+06  1.936758e+06           1936758   \n",
       "unique  ...           NaN           NaN           NaN                 4   \n",
       "top     ...           NaN           NaN           NaN                 N   \n",
       "freq    ...           NaN           NaN           NaN           1936125   \n",
       "mean    ...  6.812975e+00  1.823220e+01  3.268348e-04               NaN   \n",
       "std     ...  5.273595e+00  1.433853e+01  1.807562e-02               NaN   \n",
       "min     ...  0.000000e+00  0.000000e+00  0.000000e+00               NaN   \n",
       "25%     ...  4.000000e+00  1.000000e+01  0.000000e+00               NaN   \n",
       "50%     ...  6.000000e+00  1.400000e+01  0.000000e+00               NaN   \n",
       "75%     ...  8.000000e+00  2.100000e+01  0.000000e+00               NaN   \n",
       "max     ...  2.400000e+02  4.220000e+02  1.000000e+00               NaN   \n",
       "\n",
       "            Diverted  CarrierDelay  WeatherDelay      NASDelay SecurityDelay  \\\n",
       "count   1.936758e+06  1.247488e+06  1.247488e+06  1.247488e+06  1.247488e+06   \n",
       "unique           NaN           NaN           NaN           NaN           NaN   \n",
       "top              NaN           NaN           NaN           NaN           NaN   \n",
       "freq             NaN           NaN           NaN           NaN           NaN   \n",
       "mean    4.003598e-03  1.917940e+01  3.703571e+00  1.502164e+01  9.013714e-02   \n",
       "std     6.314722e-02  4.354621e+01  2.149290e+01  3.383305e+01  2.022714e+00   \n",
       "min     0.000000e+00  0.000000e+00  0.000000e+00  0.000000e+00  0.000000e+00   \n",
       "25%     0.000000e+00  0.000000e+00  0.000000e+00  0.000000e+00  0.000000e+00   \n",
       "50%     0.000000e+00  2.000000e+00  0.000000e+00  2.000000e+00  0.000000e+00   \n",
       "75%     0.000000e+00  2.100000e+01  0.000000e+00  1.500000e+01  0.000000e+00   \n",
       "max     1.000000e+00  2.436000e+03  1.352000e+03  1.357000e+03  3.920000e+02   \n",
       "\n",
       "        LateAircraftDelay  \n",
       "count        1.247488e+06  \n",
       "unique                NaN  \n",
       "top                   NaN  \n",
       "freq                  NaN  \n",
       "mean         2.529647e+01  \n",
       "std          4.205486e+01  \n",
       "min          0.000000e+00  \n",
       "25%          0.000000e+00  \n",
       "50%          8.000000e+00  \n",
       "75%          3.300000e+01  \n",
       "max          1.316000e+03  \n",
       "\n",
       "[11 rows x 30 columns]"
      ]
     },
     "execution_count": 2,
     "metadata": {},
     "output_type": "execute_result"
    }
   ],
   "source": [
    "print(df.head())\n",
    "print(f\"\\nVeri kümesinin boyutu: {df.shape[0]} satır, {df.shape[1]} sütun\")\n",
    "print(\"\\nSütunlar:\")\n",
    "print(df.columns.tolist())\n",
    "print(\"\\nVeri tipleri:\")\n",
    "print(df.dtypes)\n",
    "print(\"\\nEksik veri sayısı:\")\n",
    "print(df.isnull().sum())\n",
    "\n",
    "df.describe(include='all' )"
   ]
  },
  {
   "cell_type": "markdown",
   "id": "e8f8cb08-47c3-4506-b52a-60cdc2bddff3",
   "metadata": {},
   "source": [
    "Veri setinde toplam 1.936.758 satır ve 30 sütun bulunmaktadır. Yaklaşık 690.000 satırda eksik veri vardır, eksik veri temizleme işlemi gerekmektedir. UniqueCarrier (hava yolu kodu), TailNum (uçak kuyruk numarası), Origin (kalkış havaalanı kodu) ,Dest (varış havaalanı kodu),CancellationCode (iptal sebebi) (object), geri kalan veriler sayısal formdadır. Veri Ön İşleme esnasında gerekli dönüşümler yapılacaktır."
   ]
  },
  {
   "cell_type": "markdown",
   "id": "d30919ac-b2cf-4aec-b484-adba1ff2550f",
   "metadata": {},
   "source": [
    "# Veri Temizliği - Eksik Veri Olan Satırların Temizlenmesi"
   ]
  },
  {
   "cell_type": "code",
   "execution_count": 3,
   "id": "261822d1-bc7b-4684-a076-109b3313b18b",
   "metadata": {},
   "outputs": [
    {
     "name": "stdout",
     "output_type": "stream",
     "text": [
      "Yeni veri kümesinin boyutu: (1247486, 30)\n"
     ]
    }
   ],
   "source": [
    "df_cleaned = df.dropna()\n",
    "\n",
    "print(\"Yeni veri kümesinin boyutu:\", df_cleaned.shape)\n"
   ]
  },
  {
   "cell_type": "markdown",
   "id": "63148628-6adc-4c67-aac3-13fbb90d8531",
   "metadata": {},
   "source": [
    "Verisetinde eksik veri bulunan satırlar temizlendikten sonra veriseti 1.247.486 satır ve 30 sütundan oluşmaktadır."
   ]
  },
  {
   "cell_type": "markdown",
   "id": "1d1fc5d6-d1a9-4a2e-bd8d-21a0cab565a7",
   "metadata": {},
   "source": [
    "# Keşifsel Veri Analizi- Hedef Değişkene ait Bilgilerin Edinilmesi"
   ]
  },
  {
   "cell_type": "code",
   "execution_count": 4,
   "id": "e3c62489-2361-4f34-8ab6-90cfda904caf",
   "metadata": {},
   "outputs": [
    {
     "name": "stdout",
     "output_type": "stream",
     "text": [
      "ArrDelay İstatistikleri:\n",
      " count    1.247486e+06\n",
      "mean     6.329104e+01\n",
      "std      6.075380e+01\n",
      "min      1.500000e+01\n",
      "25%      2.600000e+01\n",
      "50%      4.300000e+01\n",
      "75%      7.900000e+01\n",
      "max      2.461000e+03\n",
      "Name: ArrDelay, dtype: float64\n"
     ]
    }
   ],
   "source": [
    "print(\"ArrDelay İstatistikleri:\\n\", df_cleaned['ArrDelay'].describe())\n"
   ]
  },
  {
   "cell_type": "code",
   "execution_count": 5,
   "id": "6180ca04-18ff-49cb-8c29-97e4e65f63bb",
   "metadata": {},
   "outputs": [
    {
     "data": {
      "image/png": "[encoded data removed]",
      "text/plain": [
       "<Figure size 1000x600 with 1 Axes>"
      ]
     },
     "metadata": {},
     "output_type": "display_data"
    }
   ],
   "source": [
    "import seaborn as sns\n",
    "import matplotlib.pyplot as plt\n",
    "\n",
    "plt.figure(figsize=(10, 6))\n",
    "sns.histplot(df_cleaned['ArrDelay'], bins=100, kde=True)\n",
    "plt.title(\"ArrDelay Dağılımı\")\n",
    "plt.xlabel(\"Varış Gecikmesi (dakika)\")\n",
    "plt.ylabel(\"Frekans\")\n",
    "plt.xlim(-50, 300)  # Aşırı uç değerleri dışarıda bırakmak için\n",
    "plt.show()\n"
   ]
  },
  {
   "cell_type": "markdown",
   "id": "7a5b7978-9176-4268-a196-5863cb5a0cd7",
   "metadata": {},
   "source": [
    "Hedef değişken olarak belirlenecek olan \"ArrDelay\" sütunun istatistik bilgilerine bakıldığında;\n",
    "\n",
    "Ortalama Gecikme (mean): 63.29 dakika — oldukça yüksek bir gecikme ortalaması olduğu sistematik bir gecikme durumu olabileceği,\n",
    "\n",
    "Standart Sapma (std): 60.75 dakika — veri çok dağıldığı bazı uç değerler olabileceği,\n",
    "\n",
    "Minimum Gecikme (min): 15 dakika — verisetinde sadece gecikmeli uçuşların olduğu,\n",
    "\n",
    "Medyan (50%): 43 dakika — çoğu uçuşun ortalamaya göre biraz daha az geciktiği,\n",
    "\n",
    "%75'lik dilim (75%): 79 dakika — uçuşların %25’lik bir kesiminin 79 dakikadan fazla geciktiği,\n",
    "\n",
    "Maksimum (max): 2461 dakika (!) — Max değerin  aykırı (outlier) olduğu,\n",
    "\n",
    "tespit edilmiştir.\n"
   ]
  },
  {
   "cell_type": "code",
   "execution_count": 6,
   "id": "dd49484f-62f5-46f1-b203-9d07c657d06e",
   "metadata": {},
   "outputs": [
    {
     "data": {
      "image/png": "[encoded data removed]",
      "text/plain": [
       "<Figure size 1400x500 with 2 Axes>"
      ]
     },
     "metadata": {},
     "output_type": "display_data"
    }
   ],
   "source": [
    "import matplotlib.pyplot as plt\n",
    "import seaborn as sns\n",
    "\n",
    "plt.figure(figsize=(14, 5))\n",
    "\n",
    "plt.subplot(1, 2, 1)\n",
    "sns.histplot(df_cleaned['ArrDelay'], bins=100, kde=True, color='steelblue')\n",
    "plt.title('ArrDelay Dağılımı')\n",
    "\n",
    "plt.subplot(1, 2, 2)\n",
    "sns.boxplot(x=df['ArrDelay'], color='orange')\n",
    "plt.title('ArrDelay Boxplot')\n",
    "\n",
    "plt.tight_layout()\n",
    "plt.show()\n",
    "\n"
   ]
  },
  {
   "cell_type": "markdown",
   "id": "a9a429ba-05e7-43b4-9d5c-22a1fe3707d4",
   "metadata": {},
   "source": [
    "ArrDelay değişkeninin histogram grafiğine bakıldığında çoğu gecikmenin 0-200 dakika arasında olduğu ancak 200 dakikadan fazla olan tekil durumların olduğu bu nedenle aykırı değerler olduğu gözlenmiştir.Boxplot grafiğine bakıldığında ise 2500 dakikaya kadar devam eden uç değerler olduğu görülmektedir."
   ]
  },
  {
   "cell_type": "code",
   "execution_count": 7,
   "id": "2ccd58c8-5911-4f62-89dd-f268c32e61f9",
   "metadata": {},
   "outputs": [
    {
     "name": "stdout",
     "output_type": "stream",
     "text": [
      "Çok büyük gecikmelerin sayısı (> 200 dakika): 10685\n"
     ]
    },
    {
     "data": {
      "image/png": "[encoded data removed]",
      "text/plain": [
       "<Figure size 1000x200 with 1 Axes>"
      ]
     },
     "metadata": {},
     "output_type": "display_data"
    }
   ],
   "source": [
    "print(\"Çok büyük gecikmelerin sayısı (> 200 dakika):\", (df_cleaned['ArrDelay'] > 300).sum())\n",
    "plt.figure(figsize=(10, 2))\n",
    "sns.boxplot(x=df_cleaned['ArrDelay'])\n",
    "plt.title(\"ArrDelay Boxplot (Outlier Kontrolü)\")\n",
    "plt.xlim(-50, 200)\n",
    "plt.show()\n"
   ]
  },
  {
   "cell_type": "markdown",
   "id": "2cc3cf67-d91c-4f3d-9ef0-4760ee3da3a5",
   "metadata": {},
   "source": [
    "ortalama gecikme 63.29 dakika olarak tespit edilmişken 200 dakikanın üzerinde 10.685 değer olduğu görülmüştür, bu değerler uç değerlerdir, modelin öğrenmesini olumsuz yönde etkileyebilirler. Veri temizleme aşamasında temizlenecektir."
   ]
  },
  {
   "cell_type": "code",
   "execution_count": 8,
   "id": "6b9fb68e-b1f1-44ab-a806-d613b20d61ba",
   "metadata": {},
   "outputs": [
    {
     "name": "stdout",
     "output_type": "stream",
     "text": [
      "ArrDelay ile korelasyonu yüksek değişkenler:\n",
      " ArrDelay             1.000000\n",
      "DepDelay             0.950323\n",
      "CarrierDelay         0.501777\n",
      "LateAircraftDelay    0.478127\n",
      "NASDelay             0.387609\n",
      "WeatherDelay         0.264604\n",
      "TaxiOut              0.208441\n",
      "TaxiIn               0.116314\n",
      "DepTime              0.093979\n",
      "ActualElapsedTime    0.083738\n",
      "FlightNum            0.035803\n",
      "CRSElapsedTime       0.031566\n",
      "AirTime              0.027509\n",
      "CRSArrTime           0.024998\n",
      "CRSDepTime           0.017093\n",
      "Name: ArrDelay, dtype: float64\n"
     ]
    }
   ],
   "source": [
    "correlations = df_cleaned.corr(numeric_only=True)['ArrDelay'].sort_values(ascending=False)\n",
    "print(\"ArrDelay ile korelasyonu yüksek değişkenler:\\n\", correlations.head(15))\n"
   ]
  },
  {
   "cell_type": "markdown",
   "id": "a8437410-a82e-4a56-9183-cef5e459af52",
   "metadata": {},
   "source": [
    "hedef değişken olarak seçilecek olan \"ArrDelay\" değişkeninin 30 özellik arasından en yüksek korelasyonun olduğu 15 özellik sıralanmıştır. \"ArrDelay\"'in kendisi ile olan korelasyonu dikkate alınmaz. Kalan değerler arasında DepDelay  0.950323 hedef değişken ile ciddi derecede doğrusal ilişkilidir, CarrierDelay,LateAircraftDelay,NASDelay hedef değişken ile orta derecede doğrusal ilişkilidir,WeatherDelay, TaxiOut, TaxiIn hedef değişken ile zayıf derecede de olsa doğrusal ilişkilidir. Kalan özellik sütunlarının korelasyon değerleri modelin anlamlı tahminde bulunmasına engel olabileceğinden ilerleyen basamaklarda veri temizliği aşamasında bu sütunlar verisetinden temizlenecektir.            "
   ]
  },
  {
   "cell_type": "markdown",
   "id": "eda28ee0-b004-46b3-9963-edb3ece45eaa",
   "metadata": {},
   "source": [
    "# Keşifsel Veri Analizi- Hedef Değişken ile Yüksek Korelasyonlu Özelliklerin İlişkisi"
   ]
  },
  {
   "cell_type": "code",
   "execution_count": 9,
   "id": "583f1374-1b62-4a96-bbc5-f1d306a4bd68",
   "metadata": {},
   "outputs": [
    {
     "name": "stderr",
     "output_type": "stream",
     "text": [
      "/var/folders/zg/bjz8f2zx4xl0lpls1crqjl6w0000gn/T/ipykernel_28705/4249973563.py:8: FutureWarning: The default of observed=False is deprecated and will be changed to True in a future version of pandas. Pass observed=False to retain current behavior or observed=True to adopt the future default and silence this warning.\n",
      "  dep_group = df_cleaned.groupby('DepDelay_bin')['ArrDelay'].mean().reset_index()\n"
     ]
    },
    {
     "data": {
      "image/png": "[encoded data removed]",
      "text/plain": [
       "<Figure size 1800x500 with 1 Axes>"
      ]
     },
     "metadata": {},
     "output_type": "display_data"
    }
   ],
   "source": [
    "import pandas as pd\n",
    "import seaborn as sns\n",
    "import matplotlib.pyplot as plt\n",
    "\n",
    "df_cleaned = df_cleaned.copy()\n",
    "\n",
    "df_cleaned['DepDelay_bin'] = pd.cut(df_cleaned['DepDelay'], bins=range(0, 300, 20))\n",
    "dep_group = df_cleaned.groupby('DepDelay_bin')['ArrDelay'].mean().reset_index()\n",
    "\n",
    "plt.figure(figsize=(18, 5))\n",
    "\n",
    "plt.subplot(1, 3, 1)\n",
    "sns.barplot(data=dep_group, x='DepDelay_bin', y='ArrDelay')\n",
    "plt.title('Ortalama ArrDelay vs DepDelay Aralıkları')\n",
    "plt.xticks(rotation=90)\n",
    "\n",
    "plt.tight_layout()\n",
    "plt.show()\n",
    "\n"
   ]
  },
  {
   "cell_type": "markdown",
   "id": "bc047521-b494-459a-a4ef-da0bc75d59b4",
   "metadata": {},
   "source": [
    "Grafiğe bakıldığında ArrDelay ile DepDelay verileri arasında doğrusal ve güçlü bir ilişki olduğu görülmektedir."
   ]
  },
  {
   "cell_type": "code",
   "execution_count": 10,
   "id": "e7485c38-db0a-45ac-aed1-7ec5f8787772",
   "metadata": {},
   "outputs": [
    {
     "name": "stderr",
     "output_type": "stream",
     "text": [
      "/var/folders/zg/bjz8f2zx4xl0lpls1crqjl6w0000gn/T/ipykernel_28705/2640024477.py:3: FutureWarning: The default of observed=False is deprecated and will be changed to True in a future version of pandas. Pass observed=False to retain current behavior or observed=True to adopt the future default and silence this warning.\n",
      "  carrier_group = df_cleaned.groupby('CarrierDelay_bin')['ArrDelay'].mean().reset_index()\n"
     ]
    },
    {
     "data": {
      "image/png": "[encoded data removed]",
      "text/plain": [
       "<Figure size 1800x500 with 1 Axes>"
      ]
     },
     "metadata": {},
     "output_type": "display_data"
    }
   ],
   "source": [
    "\n",
    "\n",
    "# CarrierDelay - ArrDelay\n",
    "df_cleaned['CarrierDelay_bin'] = pd.cut(df_cleaned['CarrierDelay'], bins=range(0, 300, 20))\n",
    "carrier_group = df_cleaned.groupby('CarrierDelay_bin')['ArrDelay'].mean().reset_index()\n",
    "\n",
    "\n",
    "plt.figure(figsize=(18, 5))\n",
    "\n",
    "\n",
    "plt.subplot(1, 3, 2)\n",
    "sns.barplot(data=carrier_group, x='CarrierDelay_bin', y='ArrDelay')\n",
    "plt.title('Ortalama ArrDelay vs CarrierDelay Aralıkları')\n",
    "plt.xticks(rotation=90)\n",
    "\n",
    "plt.tight_layout()\n",
    "plt.show()\n"
   ]
  },
  {
   "cell_type": "code",
   "execution_count": 11,
   "id": "7b08544f-e0c1-45e8-a882-40509b7de5a1",
   "metadata": {},
   "outputs": [
    {
     "name": "stderr",
     "output_type": "stream",
     "text": [
      "/var/folders/zg/bjz8f2zx4xl0lpls1crqjl6w0000gn/T/ipykernel_28705/921405888.py:3: FutureWarning: The default of observed=False is deprecated and will be changed to True in a future version of pandas. Pass observed=False to retain current behavior or observed=True to adopt the future default and silence this warning.\n",
      "  late_group = df_cleaned.groupby('LateAircraftDelay_bin')['ArrDelay'].mean().reset_index()\n"
     ]
    },
    {
     "data": {
      "image/png": "[encoded data removed]",
      "text/plain": [
       "<Figure size 1800x500 with 1 Axes>"
      ]
     },
     "metadata": {},
     "output_type": "display_data"
    }
   ],
   "source": [
    "\n",
    "# LateAircraftDelay - ArrDelay\n",
    "df_cleaned['LateAircraftDelay_bin'] = pd.cut(df_cleaned['LateAircraftDelay'], bins=range(0, 300, 20))\n",
    "late_group = df_cleaned.groupby('LateAircraftDelay_bin')['ArrDelay'].mean().reset_index()\n",
    "\n",
    "\n",
    "plt.figure(figsize=(18, 5))\n",
    "\n",
    "plt.subplot(1, 3, 3)\n",
    "sns.barplot(data=late_group, x='LateAircraftDelay_bin', y='ArrDelay')\n",
    "plt.title('Ortalama ArrDelay vs LateAircraftDelay Aralıkları')\n",
    "plt.xticks(rotation=90)\n",
    "\n",
    "plt.tight_layout()\n",
    "plt.show()\n"
   ]
  },
  {
   "cell_type": "markdown",
   "id": "dadc6750-7eb6-41ce-9e39-5a17c396708a",
   "metadata": {},
   "source": [
    "# Veri Temizliği- Hedef Değişken ile Korelasyonu Düşük Olan Sütunların Temizlenmesi"
   ]
  },
  {
   "cell_type": "code",
   "execution_count": 12,
   "id": "e90e4933-0085-47e0-b67e-77dc75ea4687",
   "metadata": {},
   "outputs": [
    {
     "name": "stdout",
     "output_type": "stream",
     "text": [
      "Kalan sütunlar:\n",
      "['DepDelay', 'CarrierDelay', 'LateAircraftDelay', 'NASDelay', 'WeatherDelay', 'TaxiOut', 'TaxiIn', 'ArrDelay']\n",
      "Yeni df_cleaned boyutu: (1247486, 8)\n",
      "Eksik veri var mı?: 0\n"
     ]
    }
   ],
   "source": [
    "columns_to_keep = ['DepDelay', 'CarrierDelay', 'LateAircraftDelay', \n",
    "                   'NASDelay', 'WeatherDelay', 'TaxiOut', 'TaxiIn', 'ArrDelay']\n",
    "\n",
    "df_cleaned = df.dropna()\n",
    "\n",
    "df_cleaned = df_cleaned[columns_to_keep]\n",
    "\n",
    "print(\"Kalan sütunlar:\")\n",
    "print(df_cleaned.columns.tolist())\n",
    "\n",
    "print(\"Yeni df_cleaned boyutu:\", df_cleaned.shape)\n",
    "print(\"Eksik veri var mı?:\", df_cleaned.isnull().sum().sum())\n",
    "\n"
   ]
  },
  {
   "cell_type": "markdown",
   "id": "47b4621b-b7c0-440d-bcba-30cab0539c0f",
   "metadata": {},
   "source": [
    "Hedef değişken ve Hedef Değişken ile Korelasyonu yüksek olan 'DepDelay', 'TaxiIn', 'TaxiOut', 'CarrierDelay', 'WeatherDelay', 'NASDelay', 'LateAircraftDelay' dışındaki sütunlar, modelin tahminleme performansını düşürebileceği için temizlenmiştir, eksik veri temizleme işleme yinelenmiş, eksik veri olup olmadığı tekrar kontrol edilmiştir."
   ]
  },
  {
   "cell_type": "code",
   "execution_count": 13,
   "id": "db5ac0c6-979e-4591-8568-e879c20044ba",
   "metadata": {},
   "outputs": [
    {
     "name": "stdout",
     "output_type": "stream",
     "text": [
      "Kalan sütunların veri türleri:\n",
      "DepDelay             float64\n",
      "CarrierDelay         float64\n",
      "LateAircraftDelay    float64\n",
      "NASDelay             float64\n",
      "WeatherDelay         float64\n",
      "TaxiOut              float64\n",
      "TaxiIn               float64\n",
      "ArrDelay             float64\n",
      "dtype: object\n"
     ]
    }
   ],
   "source": [
    "print(\"Kalan sütunların veri türleri:\")\n",
    "print(df_cleaned.dtypes)\n"
   ]
  },
  {
   "cell_type": "markdown",
   "id": "c9cc049e-5378-4b5a-862e-17f64ec8dd95",
   "metadata": {},
   "source": [
    "kalan değişkenlerin hepsi ondalıklı sayılardan oluşmaktadır, model regresyon problemi üzerine olacağından bu aşamada veri formatının dönüştürülmesi gerekli görülmemektedir."
   ]
  },
  {
   "cell_type": "markdown",
   "id": "a4b9f5bf-517d-42ac-bc88-b6d07653198c",
   "metadata": {},
   "source": [
    "eksik veriler tekrar temizlendi, y hedef değişkeni \"ArrDelay\" olarak, geri kalan 'DepDelay', 'TaxiIn', 'TaxiOut', 'CarrierDelay', 'WeatherDelay', 'NASDelay', 'LateAircraftDelay'değişkenleri x bağımsız değişkeni olarak tanımlandı. x değişkenleri ölçeklendirildi."
   ]
  },
  {
   "cell_type": "markdown",
   "id": "81489a20-1985-4579-ad4e-21499b45232c",
   "metadata": {},
   "source": [
    "# Veri Temizliği - Hedef Değişkendeki Uç Değerlerin Temizlenmesi"
   ]
  },
  {
   "cell_type": "code",
   "execution_count": 14,
   "id": "98a02aba-159e-425c-b114-0741c92b1ff1",
   "metadata": {},
   "outputs": [
    {
     "name": "stdout",
     "output_type": "stream",
     "text": [
      "Yeni df_filtered boyutu: (1204914, 8)\n",
      "Eksik veri var mı?: 0\n"
     ]
    }
   ],
   "source": [
    "threshold = 200\n",
    "df_filtered = df_cleaned[df_cleaned['ArrDelay'] <= threshold]\n",
    "\n",
    "print(\"Yeni df_filtered boyutu:\", df_filtered.shape)\n",
    "print(\"Eksik veri var mı?:\", df_filtered.isnull().sum().sum())\n",
    "\n"
   ]
  },
  {
   "cell_type": "markdown",
   "id": "636db81d-aed5-4753-989b-842a3363ce3d",
   "metadata": {},
   "source": [
    "# Veri Ön İşleme - Hedef Değişkeni Kategorilere Ayırma"
   ]
  },
  {
   "cell_type": "markdown",
   "id": "bf6008b3-c0c5-4f58-92f8-5e29e0887e6e",
   "metadata": {},
   "source": [
    "Modelde logistic regression kullanılması planlandığı için hedef değişken if, elif ve else fonksiyonları kullanılarak 4 sınıfa bölünmüştür. \n",
    "\n",
    "ArrDelay değeri;\n",
    "\n",
    "0 veya 0'dakikadan küçükse veri 0 sınıfına,\n",
    "\n",
    "0 dakikadan büyük 50 dakikadan küçük veya 50 dakikaysa 1 sınıfına,\n",
    "\n",
    "50 dakikadan büyük 90 dakikadan küçük veya 90 dakika ise 2 sınıfına, \n",
    "\n",
    "90 dakikadan büyük ise 3 sınıfına, \n",
    "\n",
    "ait olacaktır. \n",
    "\n",
    "\"ArrDelayClass\" adında yeni bir sınıf oluşturulmuştur."
   ]
  },
  {
   "cell_type": "code",
   "execution_count": 15,
   "id": "31a64f59-18ac-4984-bf48-83ebd283c7c1",
   "metadata": {
    "scrolled": true
   },
   "outputs": [],
   "source": [
    "def delay_class_4(x):\n",
    "    if x <= 0:\n",
    "        return 0\n",
    "    elif x <= 50:\n",
    "        return 1\n",
    "    elif x <= 90:\n",
    "        return 2\n",
    "    else:\n",
    "        return 3\n",
    "\n",
    "df_filtered = df_filtered.copy()\n",
    "df_filtered['ArrDelayClass'] = df_filtered['ArrDelay'].apply(delay_class_4)\n"
   ]
  },
  {
   "cell_type": "markdown",
   "id": "e0ec5d8b-260c-4af3-94d8-b8ac54f74606",
   "metadata": {},
   "source": [
    "# Veri Ön İşleme - x ve y değişkenlerinin tanımlanması ve normalizasyonu\n",
    "Daha önceden temizlenen değişkenler karışıklık olmaması için yeniden tanımlanmış, \n",
    "\n",
    "ardından x bağımsız değişkenleri DepDelay', 'CarrierDelay', 'LateAircraftDelay', 'NASDelay', 'WeatherDelay', 'TaxiOut', 'TaxiIn' olarak,\n",
    "y hedef değişkeni ise \"ArrDelayClass\" olarak tanımlanmıştır.\n",
    "\n",
    "Verilerin değerlerinin türleri farklı olabileceğinden 0,1 aralığında normalize edilmiştir."
   ]
  },
  {
   "cell_type": "code",
   "execution_count": 16,
   "id": "95155147-59f2-4e8b-ae51-9a027a5e1c00",
   "metadata": {},
   "outputs": [],
   "source": [
    "from sklearn.preprocessing import StandardScaler\n",
    "from sklearn.preprocessing import MinMaxScaler\n",
    "\n",
    "features = ['DepDelay', 'CarrierDelay', 'LateAircraftDelay', \n",
    "            'NASDelay', 'WeatherDelay', 'TaxiOut', 'TaxiIn']\n",
    "\n",
    "x = df_filtered[features]\n",
    "y = df_filtered['ArrDelayClass']\n",
    "\n",
    "scaler = MinMaxScaler()\n",
    "x_scaled = scaler.fit_transform(x)\n",
    "\n",
    "x_scaled_df = pd.DataFrame(x_scaled, columns=features)\n",
    "\n",
    "\n"
   ]
  },
  {
   "cell_type": "markdown",
   "id": "79708cd0-2fb5-4bef-9f73-be359446d21a",
   "metadata": {},
   "source": [
    "# Veri Ön İşleme - Eğitim-Test Verisi Ayrılması"
   ]
  },
  {
   "cell_type": "code",
   "execution_count": 17,
   "id": "407155c3-f028-4cb6-862e-f9b00ff098c0",
   "metadata": {},
   "outputs": [],
   "source": [
    "from sklearn.model_selection import train_test_split\n",
    "\n",
    "x_train, x_test, y_train, y_test = train_test_split( x_scaled_df, y, test_size=0.2, random_state=42, stratify=y )\n"
   ]
  },
  {
   "cell_type": "markdown",
   "id": "9162eba4-70e6-4a7f-911b-f0d58aaf50dd",
   "metadata": {},
   "source": [
    "Makine öğrenmesi kullanılarak yapılacak regresyon modelinin eğitilmesi için verisetindeki hem bağımsız hem de hedef değişken verilerin %80'i eğitim verisi, modelin başarısının test edilmesi için verisetindeki verilerin %20'si test verisi olarak bölünmüştür."
   ]
  },
  {
   "cell_type": "markdown",
   "id": "11a73e97-5c4b-409e-ad2c-23d6b8c1c969",
   "metadata": {},
   "source": [
    "# Model Oluşturulması - LOGISTIC REGRESSION KULLANILARAK MODELİN OLUŞTURULMASI"
   ]
  },
  {
   "cell_type": "code",
   "execution_count": 18,
   "id": "1efec7a2-fc27-489a-9c98-e41793fb6cab",
   "metadata": {
    "scrolled": true
   },
   "outputs": [],
   "source": [
    "from sklearn.linear_model import LogisticRegression\n",
    "from sklearn.metrics import accuracy_score, classification_report\n",
    "\n",
    "model = LogisticRegression(max_iter=1000)\n",
    "model.fit(x_train, y_train)\n",
    "\n",
    "y_pred = model.predict(x_test)\n"
   ]
  },
  {
   "cell_type": "markdown",
   "id": "ae91f9ea-eb69-4f8b-8ad4-333901fbda08",
   "metadata": {},
   "source": [
    "Logistic Regression kullanılarak model oluşturulmuş ve tahminleme uygulanmıştır"
   ]
  },
  {
   "cell_type": "markdown",
   "id": "2fab62e0-2de8-4bc1-9a72-72d7e293d4ad",
   "metadata": {},
   "source": [
    "# Modelin Test Edilmesi \n"
   ]
  },
  {
   "cell_type": "code",
   "execution_count": 19,
   "id": "c3a685aa-88a1-4898-8d97-3811f13238b9",
   "metadata": {},
   "outputs": [
    {
     "name": "stdout",
     "output_type": "stream",
     "text": [
      "Cross Validation Doğruluk Skorları: [0.98967147 0.99043916 0.99010304 0.98946399 0.98970048]\n",
      "Ortalama Doğruluk: 0.9898756258329222\n",
      "Standart Sapma: 0.0003495967047013123\n"
     ]
    }
   ],
   "source": [
    "from sklearn.pipeline import make_pipeline\n",
    "from sklearn.preprocessing import MinMaxScaler\n",
    "from sklearn.linear_model import LogisticRegression\n",
    "from sklearn.model_selection import StratifiedKFold, cross_val_score\n",
    "\n",
    "pipeline = make_pipeline(MinMaxScaler(), LogisticRegression(max_iter=1000, random_state=42))\n",
    "\n",
    "cv = StratifiedKFold(n_splits=5, shuffle=True, random_state=42)\n",
    "cv_scores = cross_val_score(pipeline, x, y, cv=cv, scoring='accuracy', n_jobs=-1)\n",
    "\n",
    "print(\"Cross Validation Doğruluk Skorları:\", cv_scores)\n",
    "print(\"Ortalama Doğruluk:\", cv_scores.mean())\n",
    "print(\"Standart Sapma:\", cv_scores.std())\n",
    "\n"
   ]
  },
  {
   "cell_type": "markdown",
   "id": "df13dab6-7baf-4e26-a5b2-55c29fadf957",
   "metadata": {},
   "source": [
    "Cross validation sonuçlarına göre modelin doğruluk oranları beş farklı katmanda oldukça tutarlı ve yüksek seyrettiği, doğruluk skorlarının %98.96 ile %99.04 arasında değişmekte olduğu, ortalama doğruluk %98.99 seviyesinde olduğu, standart sapmanın çok düşük olması (0.00035 civarı) farklı katmanlardaki performansın birbirine çok yakın olduğu, yani modelin kararlı ve genelleme kapasitesinin yüksek olduğu gözlenmektedir. Bu verilerle aşırı öğrenme (overfitting) riskinin düşük olduğu söylenebilir. "
   ]
  },
  {
   "cell_type": "markdown",
   "id": "2f705032-6190-4f04-b2ed-6deb2b5a2c3b",
   "metadata": {},
   "source": [
    "# Modelin Hiperparametre Optimizasyonu Yapılarak Yeniden Uygulanması"
   ]
  },
  {
   "cell_type": "code",
   "execution_count": 20,
   "id": "88c052ba-cf63-4403-88eb-444c5afd18c7",
   "metadata": {},
   "outputs": [
    {
     "name": "stdout",
     "output_type": "stream",
     "text": [
      "En iyi parametreler: {'logisticregression__C': 10, 'logisticregression__max_iter': 200}\n",
      "En iyi doğruluk: 0.9965258930591936\n"
     ]
    }
   ],
   "source": [
    "from sklearn.model_selection import GridSearchCV\n",
    "from sklearn.linear_model import LogisticRegression\n",
    "from sklearn.preprocessing import MinMaxScaler\n",
    "\n",
    "\n",
    "param_grid = {\n",
    "    'logisticregression__C': [0.01, 0.1, 1, 10],\n",
    "    'logisticregression__max_iter': [200]\n",
    "}\n",
    "\n",
    "grid_search = GridSearchCV(pipeline, param_grid, cv=5, scoring='accuracy', n_jobs=1)\n",
    "grid_search.fit(x, y)\n",
    "\n",
    "print(\"En iyi parametreler:\", grid_search.best_params_)\n",
    "print(\"En iyi doğruluk:\", grid_search.best_score_)\n"
   ]
  },
  {
   "cell_type": "markdown",
   "id": "c90afc98-c594-4c9f-b171-b36d5e3a5ac9",
   "metadata": {},
   "source": [
    "Lojistik regresyon modelinin performansını artırmak için hiperparametre optimizasyonu yapıldı. Öncelikle veri ölçeklendirme için MinMaxScaler ve sınıflandırma için LogisticRegression yer alan bir pipeline oluşturuldı. Ardından, modelin önemli iki parametresi olan C (düzenleme gücü) ve max_iter (maksimum iterasyon sayısı) için farklı değerlerin denenmesi amacıyla bir parametre ızgarası (param_grid) belirlendi. GridSearchCV fonksiyonu, bu parametre kombinasyonlarını 5 katlı cross-validation (çapraz doğrulama) ile test edilerek, her biri için modelin doğruluk (accuracy) skoru hesaplandı ve en iyi sonucu veren parametreler belirlenmesi amaçlanmıştır.\n",
    "\n",
    "Sonuç olarak, modelin en iyi doğruluk değerini C=10 ve max_iter=200 parametreleriyle elde ettiği görüldü. Bu doğruluk oranı %99.65 gibi çok yüksek bir değeri göstermekte olup modelin verideki sınıfları neredeyse doğru şekilde tahmin ettiği tespit edilmiştir.\n",
    "\n",
    "C=10 değeri, modelin aşırı uyuma (overfitting'i önlemeye) daha az ağırlık verip, veriye daha esnek uyum sağladığını ifade etmektedir. max_iter=200 ise modelin eğitim sürecinde yeterli sayıda iterasyon yaparak parametreleri optimize ettiğini göstermektedir.\n",
    "\n",
    "Bu yüksek doğruluk seviyesi, modelin sınıflandırma başarısının çok iyi olduğunu gösterse de, aşırı uyum (overfitting) riskinin olup olmadığını kontrol etmek gerekmektedir. Bu nedenle diğer performans metrikleri (precision, recall, f1-score) da incelenecektir."
   ]
  },
  {
   "cell_type": "markdown",
   "id": "44d6180d-e58b-4d6f-9976-c2721021113b",
   "metadata": {},
   "source": [
    "# En iyi Performans Gösteren Modelin Değerlendirilmesi"
   ]
  },
  {
   "cell_type": "code",
   "execution_count": 22,
   "id": "2305345c-ac62-4dd7-adb6-d8d86b9e9cf2",
   "metadata": {},
   "outputs": [
    {
     "data": {
      "image/png": "[encoded data removed]",
      "text/plain": [
       "<Figure size 800x600 with 2 Axes>"
      ]
     },
     "metadata": {},
     "output_type": "display_data"
    },
    {
     "name": "stdout",
     "output_type": "stream",
     "text": [
      "Doğruluk (Accuracy): 0.9960080171630364\n",
      "Kesinlik (Precision) (macro): 0.995652481470341\n",
      "Duyarlılık (Recall) (macro): 0.9952990802595668\n",
      "F1 Skoru (macro): 0.9954756334827012\n",
      "\n",
      "Classification Report:\n",
      "\n",
      "              precision    recall  f1-score   support\n",
      "\n",
      "           1     0.9970    0.9975    0.9973    142406\n",
      "           2     0.9919    0.9915    0.9917     56417\n",
      "           3     0.9980    0.9968    0.9974     42160\n",
      "\n",
      "    accuracy                         0.9960    240983\n",
      "   macro avg     0.9957    0.9953    0.9955    240983\n",
      "weighted avg     0.9960    0.9960    0.9960    240983\n",
      "\n"
     ]
    }
   ],
   "source": [
    "from sklearn.metrics import confusion_matrix, classification_report, accuracy_score, precision_score, recall_score, f1_score\n",
    "import matplotlib.pyplot as plt\n",
    "import seaborn as sns\n",
    "\n",
    "best_model = grid_search.best_estimator_\n",
    "\n",
    "y_pred = best_model.predict(x_test)\n",
    "\n",
    "cm = confusion_matrix(y_test, y_pred)\n",
    "\n",
    "plt.figure(figsize=(8,6))\n",
    "sns.heatmap(cm, annot=True, fmt='d', cmap='Blues', xticklabels=best_model.classes_, yticklabels=best_model.classes_)\n",
    "plt.xlabel('Tahmin')\n",
    "plt.ylabel('Gerçek')\n",
    "plt.title('Karışıklık Matrisi')\n",
    "plt.show()\n",
    "\n",
    "# Performans metrikleri\n",
    "print(\"Doğruluk (Accuracy):\", accuracy_score(y_test, y_pred))\n",
    "print(\"Kesinlik (Precision) (macro):\", precision_score(y_test, y_pred, average='macro'))\n",
    "print(\"Duyarlılık (Recall) (macro):\", recall_score(y_test, y_pred, average='macro'))\n",
    "print(\"F1 Skoru (macro):\", f1_score(y_test, y_pred, average='macro'))\n",
    "\n",
    "print(\"\\nClassification Report:\\n\")\n",
    "print(classification_report(y_test, y_pred, digits=4))\n"
   ]
  },
  {
   "cell_type": "markdown",
   "id": "0af8cd45-2ff0-4c5b-9a34-409c30b06822",
   "metadata": {},
   "source": [
    "Hiperparametre optimizasyonu sonucu elde edilen en iyi modeli (best_model) seçildi, test veri setindeki özelliklerden (x_test) tahminler yapıldı ve bu tahminlerle gerçek test hedef değerlerini (y_test) karşılaştırıldı. Tahminlerin doğruluğunu anlamak için karışıklık matrisi (confusion_matrix) oluşturuldu ve bu matris görsel olarak seaborn kütüphanesiyle ısı haritası şeklinde gösterildi.\n",
    "\n",
    "Daha önce hedef değişken (0,1,2,3) olmak üzere 4 sınıfa ayrılmıştı ancak 0 sınıfına ait veri olmadığından karışıklık ısı haritasında temsil edilmediği düşünülmektedir.\n",
    "\n",
    "Karışıklık haritasına bakıldığında ;\n",
    "sınıf 1 için 350 örneğin 2 olarak hatalı tahmin edildiği, 3 olarak hatalı tahmin olmadığı,\n",
    "sınıf 2 için 395 örneğin 1 olarak hatalı , 84 örneğin 3 olarak hatalı tahmin edildiği,\n",
    "sınıf 3 için 27 örneğin 1 olarak hatalı , 106 örneğin 2 olarak hatalı tahmin edildiği,\n",
    "gözlenmiştir.\n",
    "\n",
    "Karışıklık ısı haritası çıktısına bakılarak en başarılı performansın sınıf 1 tahminlemesinde olabileceği, en az başarılı performansın sınıf 2 tahminlemesinde olabileceği gözlenmekte olup modelin performansına ilişkin kesin yorum yapılabilmesi için diğer metriklerin de değerlendirilmesi gerekmektedir.\n",
    "\n",
    "Ek olarak model performansını ölçmek için doğruluk (accuracy), kesinlik (precision), duyarlılık (recall) ve F1 skoru gibi temel sınıflandırma metrikleri hesaplanmış olup her sınıf için ayrıntılı değerlendirme raporu (classification_report) yazdırıldı. Bu sonuçlara bakıldığında;\n",
    "Sınıf 1 için precision (kesinlik) ve recall (duyarlılık) %99.7 civarında,\n",
    "Sınıf 2 için precision ve recall biraz daha düşük (%99.1),\n",
    "Sınıf 3 için precision ve recall yine %99.8 seviyesinde,\n",
    "gözlenmiş olup en yüksek performansı sınıf 3'ün verdiği görülmektedir. \n",
    "\n",
    "Macro average değerleri, her sınıfın eşit ağırlıklı ortalamasını temsil etmekte olup yaklaşık %99.5 seviyesindedir.\n",
    "\n",
    "Weighted average’ın accuracy ile neredeyse aynı çıkması, modelin sınıf dağılımını başarıyla öğrenebildiğini göstermekte olup dengesizliğin performansa olumsuz etki etmediği söylenebilir.\n"
   ]
  },
  {
   "cell_type": "markdown",
   "id": "e24370f6-fb89-413b-bbcf-603e9b4cf449",
   "metadata": {},
   "source": [
    "# Modelin Matematiksel Olarak İfade Edilmesi ve Özelliklerin Öneminin Değerlendirilmesi"
   ]
  },
  {
   "cell_type": "code",
   "execution_count": 23,
   "id": "2eb42a47-de45-461c-9b02-b697be2f3593",
   "metadata": {},
   "outputs": [
    {
     "name": "stdout",
     "output_type": "stream",
     "text": [
      "Model Denklemi:\n",
      "logit(P) = 45.0321 - 8.0564*DepDelay - 140.2531*CarrierDelay - 140.2840*LateAircraftDelay - 141.9156*NASDelay - 140.4070*WeatherDelay - 4.1773*TaxiOut - 6.5670*TaxiIn\n"
     ]
    }
   ],
   "source": [
    "\n",
    "logreg = best_model.named_steps['logisticregression']\n",
    "\n",
    "\n",
    "coefficients = logreg.coef_[0]\n",
    "intercept = logreg.intercept_[0]\n",
    "\n",
    "\n",
    "feature_names = x.columns\n",
    "\n",
    "\n",
    "equation = f\"logit(P) = {intercept:.4f}\"\n",
    "for coef, name in zip(coefficients, feature_names):\n",
    "    sign = \"+\" if coef >= 0 else \"-\"\n",
    "    equation += f\" {sign} {abs(coef):.4f}*{name}\"\n",
    "\n",
    "print(\"Model Denklemi:\")\n",
    "print(equation)\n"
   ]
  },
  {
   "cell_type": "code",
   "execution_count": 24,
   "id": "2d293e58-a65e-490f-9443-1bd9c0590afd",
   "metadata": {},
   "outputs": [
    {
     "data": {
      "image/png": "[encoded data removed]",
      "text/plain": [
       "<Figure size 1000x600 with 1 Axes>"
      ]
     },
     "metadata": {},
     "output_type": "display_data"
    }
   ],
   "source": [
    "\n",
    "coef_series = pd.Series(coefficients, index=feature_names)\n",
    "\n",
    "coef_series_sorted = coef_series.sort_values()\n",
    "\n",
    "plt.figure(figsize=(10, 6))\n",
    "coef_series_sorted.plot(kind='barh', color='skyblue')\n",
    "plt.title(\"Logistic Regression – Özellik Katsayıları\")\n",
    "plt.xlabel(\"Katsayı Değeri\")\n",
    "plt.ylabel(\"Özellikler\")\n",
    "plt.grid(True)\n",
    "plt.tight_layout()\n",
    "plt.show()\n"
   ]
  },
  {
   "cell_type": "markdown",
   "id": "6b2e89e8-56e4-491a-bab5-d6005185e43f",
   "metadata": {},
   "source": [
    "Daha önce hedef değişken - özellikler korelasyon incelemesi yapılmış olup model oluşturulup uygulandıktan sonra özelliklerin hedef değişkene olan etkisi görselleştirilmiştir. \n",
    "Grafik ve modelin matematiksel denklemi incelendiğinde bütün bağımsız değişkenlerin katsayılarının negatif olduğu görülmektedir, bu nedenle bağımsız değişkenlere ait değerler arttıkça kategorik olan hedef değişkenin yüksek gecikme sınıfına doğru gittiği anlama gelmektedir. Bir başka deyişle bağımsız değişkenler (gecikme nedenleri) arttıkça, uçuşun 0. sınıf (zamanında veya erken varış) ya da 1. sınıf (az gecikmeli) olma olasılığı düşmekte, uçuşun 2. veya 3. sınıfa (orta veya yüksek düzeyde gecikmeli) ait olma olasılığı artmaktadır.\n",
    "\n",
    "NASDelay, LateAircraftDelay, CarrierDelay, WeatherDelay bağımsız değişkenlerin katsayılarının en yüksek olduğunu dolayısıyla uçuşun gecikme durumunu en çok bu değişkenlerin değerlerinin etkilediği görülmektedir."
   ]
  }
 ],
 "metadata": {
  "kernelspec": {
   "display_name": "Python [conda env:base] *",
   "language": "python",
   "name": "conda-base-py"
  },
  "language_info": {
   "codemirror_mode": {
    "name": "ipython",
    "version": 3
   },
   "file_extension": ".py",
   "mimetype": "text/x-python",
   "name": "python",
   "nbconvert_exporter": "python",
   "pygments_lexer": "ipython3",
   "version": "3.12.7"
  }
 },
 "nbformat": 4,
 "nbformat_minor": 5
}
